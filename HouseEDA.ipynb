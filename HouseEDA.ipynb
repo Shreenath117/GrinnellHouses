{
 "cells": [
  {
   "cell_type": "markdown",
   "metadata": {},
   "source": [
    "# Answer to Question 1:"
   ]
  },
  {
   "cell_type": "code",
   "execution_count": 4,
   "metadata": {},
   "outputs": [],
   "source": [
    "import pandas as pd\n",
    "houseDataSet = pd.read_csv(\"GrinnellHouses.csv\", header=0, infer_datetime_format=True, parse_dates=[0], index_col=[0])"
   ]
  },
  {
   "cell_type": "code",
   "execution_count": 5,
   "metadata": {},
   "outputs": [
    {
     "data": {
      "text/plain": [
       "(929, 15)"
      ]
     },
     "execution_count": 5,
     "metadata": {},
     "output_type": "execute_result"
    }
   ],
   "source": [
    "# Checking the shape of the data (dimensions)\n",
    "houseDataSet.shape\n",
    "\n",
    "# 929 rows and 15 columns"
   ]
  },
  {
   "cell_type": "code",
   "execution_count": 6,
   "metadata": {},
   "outputs": [
    {
     "data": {
      "text/html": [
       "<div>\n",
       "<style scoped>\n",
       "    .dataframe tbody tr th:only-of-type {\n",
       "        vertical-align: middle;\n",
       "    }\n",
       "\n",
       "    .dataframe tbody tr th {\n",
       "        vertical-align: top;\n",
       "    }\n",
       "\n",
       "    .dataframe thead th {\n",
       "        text-align: right;\n",
       "    }\n",
       "</style>\n",
       "<table border=\"1\" class=\"dataframe\">\n",
       "  <thead>\n",
       "    <tr style=\"text-align: right;\">\n",
       "      <th></th>\n",
       "      <th>Date</th>\n",
       "      <th>Address</th>\n",
       "      <th>Bedrooms</th>\n",
       "      <th>Baths</th>\n",
       "      <th>SquareFeet</th>\n",
       "      <th>LotSize</th>\n",
       "      <th>YearBuilt</th>\n",
       "      <th>YearSold</th>\n",
       "      <th>MonthSold</th>\n",
       "      <th>DaySold</th>\n",
       "      <th>CostPerSqFt</th>\n",
       "      <th>OrigPrice</th>\n",
       "      <th>ListPrice</th>\n",
       "      <th>SalePrice</th>\n",
       "      <th>SPLPPct</th>\n",
       "    </tr>\n",
       "  </thead>\n",
       "  <tbody>\n",
       "    <tr>\n",
       "      <td>1</td>\n",
       "      <td>16695</td>\n",
       "      <td>1510 First Ave #112</td>\n",
       "      <td>2</td>\n",
       "      <td>1.0</td>\n",
       "      <td>1120.0</td>\n",
       "      <td>NaN</td>\n",
       "      <td>1993</td>\n",
       "      <td>2005</td>\n",
       "      <td>9</td>\n",
       "      <td>16</td>\n",
       "      <td>6.25</td>\n",
       "      <td>17000</td>\n",
       "      <td>10500</td>\n",
       "      <td>7000</td>\n",
       "      <td>66.67</td>\n",
       "    </tr>\n",
       "    <tr>\n",
       "      <td>2</td>\n",
       "      <td>16880</td>\n",
       "      <td>1020 Center St</td>\n",
       "      <td>3</td>\n",
       "      <td>1.0</td>\n",
       "      <td>1224.0</td>\n",
       "      <td>0.172176</td>\n",
       "      <td>1900</td>\n",
       "      <td>2006</td>\n",
       "      <td>3</td>\n",
       "      <td>20</td>\n",
       "      <td>22.06</td>\n",
       "      <td>35000</td>\n",
       "      <td>35000</td>\n",
       "      <td>27000</td>\n",
       "      <td>77.14</td>\n",
       "    </tr>\n",
       "    <tr>\n",
       "      <td>3</td>\n",
       "      <td>16875</td>\n",
       "      <td>918 Chatterton St</td>\n",
       "      <td>4</td>\n",
       "      <td>1.0</td>\n",
       "      <td>1540.0</td>\n",
       "      <td>NaN</td>\n",
       "      <td>1970</td>\n",
       "      <td>2006</td>\n",
       "      <td>3</td>\n",
       "      <td>15</td>\n",
       "      <td>18.18</td>\n",
       "      <td>54000</td>\n",
       "      <td>47000</td>\n",
       "      <td>28000</td>\n",
       "      <td>59.57</td>\n",
       "    </tr>\n",
       "    <tr>\n",
       "      <td>4</td>\n",
       "      <td>16833</td>\n",
       "      <td>1023 &amp; 1025 Spring St.</td>\n",
       "      <td>3</td>\n",
       "      <td>1.0</td>\n",
       "      <td>1154.0</td>\n",
       "      <td>NaN</td>\n",
       "      <td>1900</td>\n",
       "      <td>2006</td>\n",
       "      <td>2</td>\n",
       "      <td>1</td>\n",
       "      <td>26.00</td>\n",
       "      <td>65000</td>\n",
       "      <td>49000</td>\n",
       "      <td>30000</td>\n",
       "      <td>61.22</td>\n",
       "    </tr>\n",
       "    <tr>\n",
       "      <td>5</td>\n",
       "      <td>16667</td>\n",
       "      <td>503 2nd Ave</td>\n",
       "      <td>3</td>\n",
       "      <td>1.0</td>\n",
       "      <td>1277.0</td>\n",
       "      <td>0.206612</td>\n",
       "      <td>1900</td>\n",
       "      <td>2005</td>\n",
       "      <td>8</td>\n",
       "      <td>19</td>\n",
       "      <td>24.08</td>\n",
       "      <td>35000</td>\n",
       "      <td>35000</td>\n",
       "      <td>30750</td>\n",
       "      <td>87.86</td>\n",
       "    </tr>\n",
       "  </tbody>\n",
       "</table>\n",
       "</div>"
      ],
      "text/plain": [
       "    Date                  Address  Bedrooms  Baths  SquareFeet   LotSize  \\\n",
       "1  16695     1510 First Ave #112          2    1.0      1120.0       NaN   \n",
       "2  16880          1020 Center St          3    1.0      1224.0  0.172176   \n",
       "3  16875       918 Chatterton St          4    1.0      1540.0       NaN   \n",
       "4  16833  1023 & 1025 Spring St.          3    1.0      1154.0       NaN   \n",
       "5  16667             503 2nd Ave          3    1.0      1277.0  0.206612   \n",
       "\n",
       "   YearBuilt  YearSold  MonthSold  DaySold  CostPerSqFt  OrigPrice  ListPrice  \\\n",
       "1       1993      2005          9       16         6.25      17000      10500   \n",
       "2       1900      2006          3       20        22.06      35000      35000   \n",
       "3       1970      2006          3       15        18.18      54000      47000   \n",
       "4       1900      2006          2        1        26.00      65000      49000   \n",
       "5       1900      2005          8       19        24.08      35000      35000   \n",
       "\n",
       "   SalePrice  SPLPPct  \n",
       "1       7000    66.67  \n",
       "2      27000    77.14  \n",
       "3      28000    59.57  \n",
       "4      30000    61.22  \n",
       "5      30750    87.86  "
      ]
     },
     "execution_count": 6,
     "metadata": {},
     "output_type": "execute_result"
    }
   ],
   "source": [
    "#Viewing the dataset top few rows\n",
    "houseDataSet.head()"
   ]
  },
  {
   "cell_type": "markdown",
   "metadata": {},
   "source": [
    "# Answer to Question 2:"
   ]
  },
  {
   "cell_type": "code",
   "execution_count": 7,
   "metadata": {},
   "outputs": [],
   "source": [
    "houseDataSet['Profit']=houseDataSet['OrigPrice']-houseDataSet['SalePrice']"
   ]
  },
  {
   "cell_type": "code",
   "execution_count": 8,
   "metadata": {},
   "outputs": [
    {
     "data": {
      "text/html": [
       "<div>\n",
       "<style scoped>\n",
       "    .dataframe tbody tr th:only-of-type {\n",
       "        vertical-align: middle;\n",
       "    }\n",
       "\n",
       "    .dataframe tbody tr th {\n",
       "        vertical-align: top;\n",
       "    }\n",
       "\n",
       "    .dataframe thead th {\n",
       "        text-align: right;\n",
       "    }\n",
       "</style>\n",
       "<table border=\"1\" class=\"dataframe\">\n",
       "  <thead>\n",
       "    <tr style=\"text-align: right;\">\n",
       "      <th></th>\n",
       "      <th>Date</th>\n",
       "      <th>Address</th>\n",
       "      <th>Bedrooms</th>\n",
       "      <th>Baths</th>\n",
       "      <th>SquareFeet</th>\n",
       "      <th>LotSize</th>\n",
       "      <th>YearBuilt</th>\n",
       "      <th>YearSold</th>\n",
       "      <th>MonthSold</th>\n",
       "      <th>DaySold</th>\n",
       "      <th>CostPerSqFt</th>\n",
       "      <th>OrigPrice</th>\n",
       "      <th>ListPrice</th>\n",
       "      <th>SalePrice</th>\n",
       "      <th>SPLPPct</th>\n",
       "      <th>Profit</th>\n",
       "    </tr>\n",
       "  </thead>\n",
       "  <tbody>\n",
       "    <tr>\n",
       "      <td>1</td>\n",
       "      <td>16695</td>\n",
       "      <td>1510 First Ave #112</td>\n",
       "      <td>2</td>\n",
       "      <td>1.0</td>\n",
       "      <td>1120.0</td>\n",
       "      <td>NaN</td>\n",
       "      <td>1993</td>\n",
       "      <td>2005</td>\n",
       "      <td>9</td>\n",
       "      <td>16</td>\n",
       "      <td>6.25</td>\n",
       "      <td>17000</td>\n",
       "      <td>10500</td>\n",
       "      <td>7000</td>\n",
       "      <td>66.67</td>\n",
       "      <td>10000</td>\n",
       "    </tr>\n",
       "    <tr>\n",
       "      <td>2</td>\n",
       "      <td>16880</td>\n",
       "      <td>1020 Center St</td>\n",
       "      <td>3</td>\n",
       "      <td>1.0</td>\n",
       "      <td>1224.0</td>\n",
       "      <td>0.172176</td>\n",
       "      <td>1900</td>\n",
       "      <td>2006</td>\n",
       "      <td>3</td>\n",
       "      <td>20</td>\n",
       "      <td>22.06</td>\n",
       "      <td>35000</td>\n",
       "      <td>35000</td>\n",
       "      <td>27000</td>\n",
       "      <td>77.14</td>\n",
       "      <td>8000</td>\n",
       "    </tr>\n",
       "    <tr>\n",
       "      <td>3</td>\n",
       "      <td>16875</td>\n",
       "      <td>918 Chatterton St</td>\n",
       "      <td>4</td>\n",
       "      <td>1.0</td>\n",
       "      <td>1540.0</td>\n",
       "      <td>NaN</td>\n",
       "      <td>1970</td>\n",
       "      <td>2006</td>\n",
       "      <td>3</td>\n",
       "      <td>15</td>\n",
       "      <td>18.18</td>\n",
       "      <td>54000</td>\n",
       "      <td>47000</td>\n",
       "      <td>28000</td>\n",
       "      <td>59.57</td>\n",
       "      <td>26000</td>\n",
       "    </tr>\n",
       "    <tr>\n",
       "      <td>4</td>\n",
       "      <td>16833</td>\n",
       "      <td>1023 &amp; 1025 Spring St.</td>\n",
       "      <td>3</td>\n",
       "      <td>1.0</td>\n",
       "      <td>1154.0</td>\n",
       "      <td>NaN</td>\n",
       "      <td>1900</td>\n",
       "      <td>2006</td>\n",
       "      <td>2</td>\n",
       "      <td>1</td>\n",
       "      <td>26.00</td>\n",
       "      <td>65000</td>\n",
       "      <td>49000</td>\n",
       "      <td>30000</td>\n",
       "      <td>61.22</td>\n",
       "      <td>35000</td>\n",
       "    </tr>\n",
       "    <tr>\n",
       "      <td>5</td>\n",
       "      <td>16667</td>\n",
       "      <td>503 2nd Ave</td>\n",
       "      <td>3</td>\n",
       "      <td>1.0</td>\n",
       "      <td>1277.0</td>\n",
       "      <td>0.206612</td>\n",
       "      <td>1900</td>\n",
       "      <td>2005</td>\n",
       "      <td>8</td>\n",
       "      <td>19</td>\n",
       "      <td>24.08</td>\n",
       "      <td>35000</td>\n",
       "      <td>35000</td>\n",
       "      <td>30750</td>\n",
       "      <td>87.86</td>\n",
       "      <td>4250</td>\n",
       "    </tr>\n",
       "  </tbody>\n",
       "</table>\n",
       "</div>"
      ],
      "text/plain": [
       "    Date                  Address  Bedrooms  Baths  SquareFeet   LotSize  \\\n",
       "1  16695     1510 First Ave #112          2    1.0      1120.0       NaN   \n",
       "2  16880          1020 Center St          3    1.0      1224.0  0.172176   \n",
       "3  16875       918 Chatterton St          4    1.0      1540.0       NaN   \n",
       "4  16833  1023 & 1025 Spring St.          3    1.0      1154.0       NaN   \n",
       "5  16667             503 2nd Ave          3    1.0      1277.0  0.206612   \n",
       "\n",
       "   YearBuilt  YearSold  MonthSold  DaySold  CostPerSqFt  OrigPrice  ListPrice  \\\n",
       "1       1993      2005          9       16         6.25      17000      10500   \n",
       "2       1900      2006          3       20        22.06      35000      35000   \n",
       "3       1970      2006          3       15        18.18      54000      47000   \n",
       "4       1900      2006          2        1        26.00      65000      49000   \n",
       "5       1900      2005          8       19        24.08      35000      35000   \n",
       "\n",
       "   SalePrice  SPLPPct  Profit  \n",
       "1       7000    66.67   10000  \n",
       "2      27000    77.14    8000  \n",
       "3      28000    59.57   26000  \n",
       "4      30000    61.22   35000  \n",
       "5      30750    87.86    4250  "
      ]
     },
     "execution_count": 8,
     "metadata": {},
     "output_type": "execute_result"
    }
   ],
   "source": [
    "#Viewing the dataset top few rows\n",
    "houseDataSet.head()"
   ]
  },
  {
   "cell_type": "markdown",
   "metadata": {},
   "source": [
    "# Answer to Question 3:"
   ]
  },
  {
   "cell_type": "code",
   "execution_count": 9,
   "metadata": {},
   "outputs": [
    {
     "data": {
      "text/html": [
       "<div>\n",
       "<style scoped>\n",
       "    .dataframe tbody tr th:only-of-type {\n",
       "        vertical-align: middle;\n",
       "    }\n",
       "\n",
       "    .dataframe tbody tr th {\n",
       "        vertical-align: top;\n",
       "    }\n",
       "\n",
       "    .dataframe thead th {\n",
       "        text-align: right;\n",
       "    }\n",
       "</style>\n",
       "<table border=\"1\" class=\"dataframe\">\n",
       "  <thead>\n",
       "    <tr style=\"text-align: right;\">\n",
       "      <th></th>\n",
       "      <th>Date</th>\n",
       "      <th>Bedrooms</th>\n",
       "      <th>Baths</th>\n",
       "      <th>SquareFeet</th>\n",
       "      <th>LotSize</th>\n",
       "      <th>YearBuilt</th>\n",
       "      <th>YearSold</th>\n",
       "      <th>MonthSold</th>\n",
       "      <th>DaySold</th>\n",
       "      <th>CostPerSqFt</th>\n",
       "      <th>OrigPrice</th>\n",
       "      <th>ListPrice</th>\n",
       "      <th>SalePrice</th>\n",
       "      <th>SPLPPct</th>\n",
       "      <th>Profit</th>\n",
       "    </tr>\n",
       "  </thead>\n",
       "  <tbody>\n",
       "    <tr>\n",
       "      <td>count</td>\n",
       "      <td>929.000000</td>\n",
       "      <td>929.000000</td>\n",
       "      <td>929.000000</td>\n",
       "      <td>911.000000</td>\n",
       "      <td>741.000000</td>\n",
       "      <td>929.000000</td>\n",
       "      <td>929.000000</td>\n",
       "      <td>929.000000</td>\n",
       "      <td>929.000000</td>\n",
       "      <td>929.000000</td>\n",
       "      <td>929.000000</td>\n",
       "      <td>929.000000</td>\n",
       "      <td>929.000000</td>\n",
       "      <td>929.000000</td>\n",
       "      <td>929.000000</td>\n",
       "    </tr>\n",
       "    <tr>\n",
       "      <td>mean</td>\n",
       "      <td>18223.215285</td>\n",
       "      <td>3.194833</td>\n",
       "      <td>1.779333</td>\n",
       "      <td>1583.215148</td>\n",
       "      <td>0.723463</td>\n",
       "      <td>1945.903122</td>\n",
       "      <td>2009.365985</td>\n",
       "      <td>6.831001</td>\n",
       "      <td>16.226050</td>\n",
       "      <td>83.291561</td>\n",
       "      <td>146047.083961</td>\n",
       "      <td>141399.138859</td>\n",
       "      <td>133203.720129</td>\n",
       "      <td>93.563994</td>\n",
       "      <td>12843.363832</td>\n",
       "    </tr>\n",
       "    <tr>\n",
       "      <td>std</td>\n",
       "      <td>1139.171002</td>\n",
       "      <td>0.943293</td>\n",
       "      <td>0.743154</td>\n",
       "      <td>655.664966</td>\n",
       "      <td>2.725697</td>\n",
       "      <td>37.209902</td>\n",
       "      <td>3.124149</td>\n",
       "      <td>3.035790</td>\n",
       "      <td>9.396815</td>\n",
       "      <td>35.762241</td>\n",
       "      <td>85174.109372</td>\n",
       "      <td>82228.201763</td>\n",
       "      <td>77959.624697</td>\n",
       "      <td>6.953764</td>\n",
       "      <td>16665.059178</td>\n",
       "    </tr>\n",
       "    <tr>\n",
       "      <td>min</td>\n",
       "      <td>16527.000000</td>\n",
       "      <td>0.000000</td>\n",
       "      <td>0.000000</td>\n",
       "      <td>640.000000</td>\n",
       "      <td>0.028926</td>\n",
       "      <td>1870.000000</td>\n",
       "      <td>2005.000000</td>\n",
       "      <td>1.000000</td>\n",
       "      <td>1.000000</td>\n",
       "      <td>0.000000</td>\n",
       "      <td>5990.000000</td>\n",
       "      <td>10500.000000</td>\n",
       "      <td>7000.000000</td>\n",
       "      <td>46.500000</td>\n",
       "      <td>-94000.000000</td>\n",
       "    </tr>\n",
       "    <tr>\n",
       "      <td>25%</td>\n",
       "      <td>17169.000000</td>\n",
       "      <td>3.000000</td>\n",
       "      <td>1.000000</td>\n",
       "      <td>1150.000000</td>\n",
       "      <td>0.233884</td>\n",
       "      <td>1900.000000</td>\n",
       "      <td>2007.000000</td>\n",
       "      <td>5.000000</td>\n",
       "      <td>8.000000</td>\n",
       "      <td>60.820000</td>\n",
       "      <td>89900.000000</td>\n",
       "      <td>88000.000000</td>\n",
       "      <td>83000.000000</td>\n",
       "      <td>91.320000</td>\n",
       "      <td>4000.000000</td>\n",
       "    </tr>\n",
       "    <tr>\n",
       "      <td>50%</td>\n",
       "      <td>18046.000000</td>\n",
       "      <td>3.000000</td>\n",
       "      <td>1.750000</td>\n",
       "      <td>1440.000000</td>\n",
       "      <td>0.284091</td>\n",
       "      <td>1956.000000</td>\n",
       "      <td>2009.000000</td>\n",
       "      <td>7.000000</td>\n",
       "      <td>16.000000</td>\n",
       "      <td>82.880000</td>\n",
       "      <td>129900.000000</td>\n",
       "      <td>125000.000000</td>\n",
       "      <td>119340.000000</td>\n",
       "      <td>94.920000</td>\n",
       "      <td>9000.000000</td>\n",
       "    </tr>\n",
       "    <tr>\n",
       "      <td>75%</td>\n",
       "      <td>19281.000000</td>\n",
       "      <td>4.000000</td>\n",
       "      <td>2.000000</td>\n",
       "      <td>1833.000000</td>\n",
       "      <td>0.370179</td>\n",
       "      <td>1973.000000</td>\n",
       "      <td>2012.000000</td>\n",
       "      <td>9.000000</td>\n",
       "      <td>25.000000</td>\n",
       "      <td>105.770000</td>\n",
       "      <td>179000.000000</td>\n",
       "      <td>172000.000000</td>\n",
       "      <td>162500.000000</td>\n",
       "      <td>97.560000</td>\n",
       "      <td>16900.000000</td>\n",
       "    </tr>\n",
       "    <tr>\n",
       "      <td>max</td>\n",
       "      <td>20186.000000</td>\n",
       "      <td>8.000000</td>\n",
       "      <td>6.000000</td>\n",
       "      <td>6815.000000</td>\n",
       "      <td>55.000000</td>\n",
       "      <td>2013.000000</td>\n",
       "      <td>2015.000000</td>\n",
       "      <td>12.000000</td>\n",
       "      <td>31.000000</td>\n",
       "      <td>258.790000</td>\n",
       "      <td>695000.000000</td>\n",
       "      <td>695000.000000</td>\n",
       "      <td>606000.000000</td>\n",
       "      <td>111.020000</td>\n",
       "      <td>173000.000000</td>\n",
       "    </tr>\n",
       "  </tbody>\n",
       "</table>\n",
       "</div>"
      ],
      "text/plain": [
       "               Date    Bedrooms       Baths   SquareFeet     LotSize  \\\n",
       "count    929.000000  929.000000  929.000000   911.000000  741.000000   \n",
       "mean   18223.215285    3.194833    1.779333  1583.215148    0.723463   \n",
       "std     1139.171002    0.943293    0.743154   655.664966    2.725697   \n",
       "min    16527.000000    0.000000    0.000000   640.000000    0.028926   \n",
       "25%    17169.000000    3.000000    1.000000  1150.000000    0.233884   \n",
       "50%    18046.000000    3.000000    1.750000  1440.000000    0.284091   \n",
       "75%    19281.000000    4.000000    2.000000  1833.000000    0.370179   \n",
       "max    20186.000000    8.000000    6.000000  6815.000000   55.000000   \n",
       "\n",
       "         YearBuilt     YearSold   MonthSold     DaySold  CostPerSqFt  \\\n",
       "count   929.000000   929.000000  929.000000  929.000000   929.000000   \n",
       "mean   1945.903122  2009.365985    6.831001   16.226050    83.291561   \n",
       "std      37.209902     3.124149    3.035790    9.396815    35.762241   \n",
       "min    1870.000000  2005.000000    1.000000    1.000000     0.000000   \n",
       "25%    1900.000000  2007.000000    5.000000    8.000000    60.820000   \n",
       "50%    1956.000000  2009.000000    7.000000   16.000000    82.880000   \n",
       "75%    1973.000000  2012.000000    9.000000   25.000000   105.770000   \n",
       "max    2013.000000  2015.000000   12.000000   31.000000   258.790000   \n",
       "\n",
       "           OrigPrice      ListPrice      SalePrice     SPLPPct         Profit  \n",
       "count     929.000000     929.000000     929.000000  929.000000     929.000000  \n",
       "mean   146047.083961  141399.138859  133203.720129   93.563994   12843.363832  \n",
       "std     85174.109372   82228.201763   77959.624697    6.953764   16665.059178  \n",
       "min      5990.000000   10500.000000    7000.000000   46.500000  -94000.000000  \n",
       "25%     89900.000000   88000.000000   83000.000000   91.320000    4000.000000  \n",
       "50%    129900.000000  125000.000000  119340.000000   94.920000    9000.000000  \n",
       "75%    179000.000000  172000.000000  162500.000000   97.560000   16900.000000  \n",
       "max    695000.000000  695000.000000  606000.000000  111.020000  173000.000000  "
      ]
     },
     "execution_count": 9,
     "metadata": {},
     "output_type": "execute_result"
    }
   ],
   "source": [
    "houseDataSet.describe()"
   ]
  },
  {
   "cell_type": "code",
   "execution_count": null,
   "metadata": {},
   "outputs": [],
   "source": [
    "# We observe NA's in Squarefeet and LotSize columns in the given dataset\n",
    "# List Price has the max value of 695K and the median being 125K\n",
    "# Sale Price has the max value of 606K and the median being 119K\n",
    "# Year Built has the latest value in 2013 and as early as 1870\n",
    "# Year Sold has the latest vale in 2015 and as early as 2005\n",
    "# Bedrooms have a max value of 8 and Baths have a max value of 6\n",
    "# Profit has a max value of 173K and Median value of 9K"
   ]
  },
  {
   "cell_type": "code",
   "execution_count": 10,
   "metadata": {},
   "outputs": [
    {
     "data": {
      "text/plain": [
       "Date             int64\n",
       "Address         object\n",
       "Bedrooms         int64\n",
       "Baths          float64\n",
       "SquareFeet     float64\n",
       "LotSize        float64\n",
       "YearBuilt        int64\n",
       "YearSold         int64\n",
       "MonthSold        int64\n",
       "DaySold          int64\n",
       "CostPerSqFt    float64\n",
       "OrigPrice        int64\n",
       "ListPrice        int64\n",
       "SalePrice        int64\n",
       "SPLPPct        float64\n",
       "Profit           int64\n",
       "dtype: object"
      ]
     },
     "execution_count": 10,
     "metadata": {},
     "output_type": "execute_result"
    }
   ],
   "source": [
    "houseDataSet.dtypes"
   ]
  },
  {
   "cell_type": "markdown",
   "metadata": {},
   "source": [
    "# Answer to Question 4:"
   ]
  },
  {
   "cell_type": "code",
   "execution_count": 13,
   "metadata": {},
   "outputs": [
    {
     "data": {
      "text/plain": [
       "array([[<matplotlib.axes._subplots.AxesSubplot object at 0x000002381A1AC408>]],\n",
       "      dtype=object)"
      ]
     },
     "execution_count": 13,
     "metadata": {},
     "output_type": "execute_result"
    },
    {
     "data": {
      "image/png": "[encoded data removed]",
      "text/plain": [
       "<Figure size 432x288 with 1 Axes>"
      ]
     },
     "metadata": {
      "needs_background": "light"
     },
     "output_type": "display_data"
    }
   ],
   "source": [
    "houseDataSet.hist(column='Profit')"
   ]
  },
  {
   "cell_type": "markdown",
   "metadata": {},
   "source": [
    "# Answer to Question 5:"
   ]
  },
  {
   "cell_type": "code",
   "execution_count": 14,
   "metadata": {},
   "outputs": [
    {
     "data": {
      "text/plain": [
       "Date             0\n",
       "Address          0\n",
       "Bedrooms         0\n",
       "Baths            0\n",
       "SquareFeet      18\n",
       "LotSize        188\n",
       "YearBuilt        0\n",
       "YearSold         0\n",
       "MonthSold        0\n",
       "DaySold          0\n",
       "CostPerSqFt      0\n",
       "OrigPrice        0\n",
       "ListPrice        0\n",
       "SalePrice        0\n",
       "SPLPPct          0\n",
       "Profit           0\n",
       "dtype: int64"
      ]
     },
     "execution_count": 14,
     "metadata": {},
     "output_type": "execute_result"
    }
   ],
   "source": [
    "#Checking columns with NA values\n",
    "houseDataSet.isnull().sum()"
   ]
  },
  {
   "cell_type": "code",
   "execution_count": 15,
   "metadata": {},
   "outputs": [],
   "source": [
    "#Impute the NA's with mean values\n",
    "houseDataSet.fillna(houseDataSet.mean(), inplace=True)"
   ]
  },
  {
   "cell_type": "code",
   "execution_count": 16,
   "metadata": {},
   "outputs": [
    {
     "data": {
      "text/html": [
       "<div>\n",
       "<style scoped>\n",
       "    .dataframe tbody tr th:only-of-type {\n",
       "        vertical-align: middle;\n",
       "    }\n",
       "\n",
       "    .dataframe tbody tr th {\n",
       "        vertical-align: top;\n",
       "    }\n",
       "\n",
       "    .dataframe thead th {\n",
       "        text-align: right;\n",
       "    }\n",
       "</style>\n",
       "<table border=\"1\" class=\"dataframe\">\n",
       "  <thead>\n",
       "    <tr style=\"text-align: right;\">\n",
       "      <th></th>\n",
       "      <th>Date</th>\n",
       "      <th>Bedrooms</th>\n",
       "      <th>Baths</th>\n",
       "      <th>SquareFeet</th>\n",
       "      <th>LotSize</th>\n",
       "      <th>YearBuilt</th>\n",
       "      <th>YearSold</th>\n",
       "      <th>MonthSold</th>\n",
       "      <th>DaySold</th>\n",
       "      <th>CostPerSqFt</th>\n",
       "      <th>OrigPrice</th>\n",
       "      <th>ListPrice</th>\n",
       "      <th>SalePrice</th>\n",
       "      <th>SPLPPct</th>\n",
       "      <th>Profit</th>\n",
       "    </tr>\n",
       "  </thead>\n",
       "  <tbody>\n",
       "    <tr>\n",
       "      <td>count</td>\n",
       "      <td>929.000000</td>\n",
       "      <td>929.000000</td>\n",
       "      <td>929.000000</td>\n",
       "      <td>929.000000</td>\n",
       "      <td>929.000000</td>\n",
       "      <td>929.000000</td>\n",
       "      <td>929.000000</td>\n",
       "      <td>929.000000</td>\n",
       "      <td>929.000000</td>\n",
       "      <td>929.000000</td>\n",
       "      <td>929.000000</td>\n",
       "      <td>929.000000</td>\n",
       "      <td>929.000000</td>\n",
       "      <td>929.000000</td>\n",
       "      <td>929.000000</td>\n",
       "    </tr>\n",
       "    <tr>\n",
       "      <td>mean</td>\n",
       "      <td>18223.215285</td>\n",
       "      <td>3.194833</td>\n",
       "      <td>1.779333</td>\n",
       "      <td>1583.215148</td>\n",
       "      <td>0.723463</td>\n",
       "      <td>1945.903122</td>\n",
       "      <td>2009.365985</td>\n",
       "      <td>6.831001</td>\n",
       "      <td>16.226050</td>\n",
       "      <td>83.291561</td>\n",
       "      <td>146047.083961</td>\n",
       "      <td>141399.138859</td>\n",
       "      <td>133203.720129</td>\n",
       "      <td>93.563994</td>\n",
       "      <td>12843.363832</td>\n",
       "    </tr>\n",
       "    <tr>\n",
       "      <td>std</td>\n",
       "      <td>1139.171002</td>\n",
       "      <td>0.943293</td>\n",
       "      <td>0.743154</td>\n",
       "      <td>649.275008</td>\n",
       "      <td>2.433994</td>\n",
       "      <td>37.209902</td>\n",
       "      <td>3.124149</td>\n",
       "      <td>3.035790</td>\n",
       "      <td>9.396815</td>\n",
       "      <td>35.762241</td>\n",
       "      <td>85174.109372</td>\n",
       "      <td>82228.201763</td>\n",
       "      <td>77959.624697</td>\n",
       "      <td>6.953764</td>\n",
       "      <td>16665.059178</td>\n",
       "    </tr>\n",
       "    <tr>\n",
       "      <td>min</td>\n",
       "      <td>16527.000000</td>\n",
       "      <td>0.000000</td>\n",
       "      <td>0.000000</td>\n",
       "      <td>640.000000</td>\n",
       "      <td>0.028926</td>\n",
       "      <td>1870.000000</td>\n",
       "      <td>2005.000000</td>\n",
       "      <td>1.000000</td>\n",
       "      <td>1.000000</td>\n",
       "      <td>0.000000</td>\n",
       "      <td>5990.000000</td>\n",
       "      <td>10500.000000</td>\n",
       "      <td>7000.000000</td>\n",
       "      <td>46.500000</td>\n",
       "      <td>-94000.000000</td>\n",
       "    </tr>\n",
       "    <tr>\n",
       "      <td>25%</td>\n",
       "      <td>17169.000000</td>\n",
       "      <td>3.000000</td>\n",
       "      <td>1.000000</td>\n",
       "      <td>1152.000000</td>\n",
       "      <td>0.251309</td>\n",
       "      <td>1900.000000</td>\n",
       "      <td>2007.000000</td>\n",
       "      <td>5.000000</td>\n",
       "      <td>8.000000</td>\n",
       "      <td>60.820000</td>\n",
       "      <td>89900.000000</td>\n",
       "      <td>88000.000000</td>\n",
       "      <td>83000.000000</td>\n",
       "      <td>91.320000</td>\n",
       "      <td>4000.000000</td>\n",
       "    </tr>\n",
       "    <tr>\n",
       "      <td>50%</td>\n",
       "      <td>18046.000000</td>\n",
       "      <td>3.000000</td>\n",
       "      <td>1.750000</td>\n",
       "      <td>1440.000000</td>\n",
       "      <td>0.310000</td>\n",
       "      <td>1956.000000</td>\n",
       "      <td>2009.000000</td>\n",
       "      <td>7.000000</td>\n",
       "      <td>16.000000</td>\n",
       "      <td>82.880000</td>\n",
       "      <td>129900.000000</td>\n",
       "      <td>125000.000000</td>\n",
       "      <td>119340.000000</td>\n",
       "      <td>94.920000</td>\n",
       "      <td>9000.000000</td>\n",
       "    </tr>\n",
       "    <tr>\n",
       "      <td>75%</td>\n",
       "      <td>19281.000000</td>\n",
       "      <td>4.000000</td>\n",
       "      <td>2.000000</td>\n",
       "      <td>1824.000000</td>\n",
       "      <td>0.723463</td>\n",
       "      <td>1973.000000</td>\n",
       "      <td>2012.000000</td>\n",
       "      <td>9.000000</td>\n",
       "      <td>25.000000</td>\n",
       "      <td>105.770000</td>\n",
       "      <td>179000.000000</td>\n",
       "      <td>172000.000000</td>\n",
       "      <td>162500.000000</td>\n",
       "      <td>97.560000</td>\n",
       "      <td>16900.000000</td>\n",
       "    </tr>\n",
       "    <tr>\n",
       "      <td>max</td>\n",
       "      <td>20186.000000</td>\n",
       "      <td>8.000000</td>\n",
       "      <td>6.000000</td>\n",
       "      <td>6815.000000</td>\n",
       "      <td>55.000000</td>\n",
       "      <td>2013.000000</td>\n",
       "      <td>2015.000000</td>\n",
       "      <td>12.000000</td>\n",
       "      <td>31.000000</td>\n",
       "      <td>258.790000</td>\n",
       "      <td>695000.000000</td>\n",
       "      <td>695000.000000</td>\n",
       "      <td>606000.000000</td>\n",
       "      <td>111.020000</td>\n",
       "      <td>173000.000000</td>\n",
       "    </tr>\n",
       "  </tbody>\n",
       "</table>\n",
       "</div>"
      ],
      "text/plain": [
       "               Date    Bedrooms       Baths   SquareFeet     LotSize  \\\n",
       "count    929.000000  929.000000  929.000000   929.000000  929.000000   \n",
       "mean   18223.215285    3.194833    1.779333  1583.215148    0.723463   \n",
       "std     1139.171002    0.943293    0.743154   649.275008    2.433994   \n",
       "min    16527.000000    0.000000    0.000000   640.000000    0.028926   \n",
       "25%    17169.000000    3.000000    1.000000  1152.000000    0.251309   \n",
       "50%    18046.000000    3.000000    1.750000  1440.000000    0.310000   \n",
       "75%    19281.000000    4.000000    2.000000  1824.000000    0.723463   \n",
       "max    20186.000000    8.000000    6.000000  6815.000000   55.000000   \n",
       "\n",
       "         YearBuilt     YearSold   MonthSold     DaySold  CostPerSqFt  \\\n",
       "count   929.000000   929.000000  929.000000  929.000000   929.000000   \n",
       "mean   1945.903122  2009.365985    6.831001   16.226050    83.291561   \n",
       "std      37.209902     3.124149    3.035790    9.396815    35.762241   \n",
       "min    1870.000000  2005.000000    1.000000    1.000000     0.000000   \n",
       "25%    1900.000000  2007.000000    5.000000    8.000000    60.820000   \n",
       "50%    1956.000000  2009.000000    7.000000   16.000000    82.880000   \n",
       "75%    1973.000000  2012.000000    9.000000   25.000000   105.770000   \n",
       "max    2013.000000  2015.000000   12.000000   31.000000   258.790000   \n",
       "\n",
       "           OrigPrice      ListPrice      SalePrice     SPLPPct         Profit  \n",
       "count     929.000000     929.000000     929.000000  929.000000     929.000000  \n",
       "mean   146047.083961  141399.138859  133203.720129   93.563994   12843.363832  \n",
       "std     85174.109372   82228.201763   77959.624697    6.953764   16665.059178  \n",
       "min      5990.000000   10500.000000    7000.000000   46.500000  -94000.000000  \n",
       "25%     89900.000000   88000.000000   83000.000000   91.320000    4000.000000  \n",
       "50%    129900.000000  125000.000000  119340.000000   94.920000    9000.000000  \n",
       "75%    179000.000000  172000.000000  162500.000000   97.560000   16900.000000  \n",
       "max    695000.000000  695000.000000  606000.000000  111.020000  173000.000000  "
      ]
     },
     "execution_count": 16,
     "metadata": {},
     "output_type": "execute_result"
    }
   ],
   "source": [
    "houseDataSet.describe()"
   ]
  },
  {
   "cell_type": "markdown",
   "metadata": {},
   "source": [
    "# Answer to Question 6"
   ]
  },
  {
   "cell_type": "code",
   "execution_count": 17,
   "metadata": {},
   "outputs": [
    {
     "data": {
      "text/plain": [
       "<matplotlib.axes._subplots.AxesSubplot at 0x2381c7ef7c8>"
      ]
     },
     "execution_count": 17,
     "metadata": {},
     "output_type": "execute_result"
    },
    {
     "data": {
      "image/png": "[encoded data removed]",
      "text/plain": [
       "<Figure size 432x288 with 2 Axes>"
      ]
     },
     "metadata": {
      "needs_background": "light"
     },
     "output_type": "display_data"
    }
   ],
   "source": [
    "corr = houseDataSet.corr()\n",
    "sns.heatmap(corr)"
   ]
  },
  {
   "cell_type": "markdown",
   "metadata": {},
   "source": [
    "# Answer to Question 7:"
   ]
  },
  {
   "cell_type": "code",
   "execution_count": null,
   "metadata": {},
   "outputs": [],
   "source": [
    "# Observations :\n",
    "# No of Bedrooms is correlated with No of Bathrooms and Squarefeet\n",
    "# ( Bigger the house, more the bedrooms and bathrooms)\n",
    "# Original Price and Sale Price is highly correlated\n",
    "# The original and sale prices are correlated with bathrooms, square feet\n",
    "# From the correlation plot: we know that List Price have a high correlation to some variables such as Bathrooms, Square feet of house, Year built, orig price and Sale price\n",
    "# 2 of the variables which profit is highly correlated with are : Square Feet and Orig Price"
   ]
  },
  {
   "cell_type": "markdown",
   "metadata": {},
   "source": [
    "# Answer to Question 8:"
   ]
  },
  {
   "cell_type": "code",
   "execution_count": 18,
   "metadata": {},
   "outputs": [
    {
     "data": {
      "image/png": "[encoded data removed]",
      "text/plain": [
       "<Figure size 432x288 with 1 Axes>"
      ]
     },
     "metadata": {
      "needs_background": "light"
     },
     "output_type": "display_data"
    }
   ],
   "source": [
    "# Plotting scatterplot\n",
    "import matplotlib.pyplot as plt\n",
    "fig=plt.figure()\n",
    "ax=fig.add_axes([0,0,1,1])\n",
    "ax.scatter(houseDataSet[\"SquareFeet\"], houseDataSet[\"Profit\"], color='r')\n",
    "ax.set_xlabel('Square Feet')\n",
    "ax.set_ylabel('Profit')\n",
    "ax.set_title('Profit & Square Feet')\n",
    "plt.show()\n",
    "# We can observe the positive slope, as Square Feet increase, Profit is increasing, it's positive relation"
   ]
  },
  {
   "cell_type": "markdown",
   "metadata": {},
   "source": [
    "# Answer to Question 9: "
   ]
  },
  {
   "cell_type": "code",
   "execution_count": 19,
   "metadata": {},
   "outputs": [
    {
     "data": {
      "image/png": "[encoded data removed]",
      "text/plain": [
       "<Figure size 432x288 with 1 Axes>"
      ]
     },
     "metadata": {
      "needs_background": "light"
     },
     "output_type": "display_data"
    }
   ],
   "source": [
    "# Plotting scatterplot\n",
    "import matplotlib.pyplot as plt\n",
    "fig=plt.figure()\n",
    "ax=fig.add_axes([0,0,1,1])\n",
    "ax.scatter(houseDataSet[\"OrigPrice\"], houseDataSet[\"Profit\"], color='r')\n",
    "ax.set_xlabel('Original Price')\n",
    "ax.set_ylabel('Profit')\n",
    "ax.set_title('Profit & Original Price')\n",
    "plt.show()\n",
    "# We can observe the positive slope, as Original Price increase, Profit is increasing, it's positive relation"
   ]
  },
  {
   "cell_type": "markdown",
   "metadata": {},
   "source": [
    "# Answer to Question 10:"
   ]
  },
  {
   "cell_type": "code",
   "execution_count": null,
   "metadata": {},
   "outputs": [],
   "source": [
    "# Observations :\n",
    "# It appears the original price of the home and square footage of the home have potential to be used for prediction of profit / loss. \n",
    "# The two variable have high correlation to Profit and appear to have a linear relationship."
   ]
  },
  {
   "cell_type": "markdown",
   "metadata": {},
   "source": [
    "# Answer to Question 11:"
   ]
  },
  {
   "cell_type": "code",
   "execution_count": 117,
   "metadata": {},
   "outputs": [
    {
     "data": {
      "image/png": "[encoded data removed]",
      "text/plain": [
       "<Figure size 432x288 with 1 Axes>"
      ]
     },
     "metadata": {
      "needs_background": "light"
     },
     "output_type": "display_data"
    }
   ],
   "source": [
    "import matplotlib.pyplot as plt\n",
    "fig=plt.figure()\n",
    "ax=fig.add_axes([0,0,1,1])\n",
    "ax.scatter(houseDataSet[\"CostPerSqFt\"], houseDataSet[\"ListPrice\"], color='r')\n",
    "ax.set_xlabel('Cost Per Square Feet')\n",
    "ax.set_ylabel('List Price')\n",
    "ax.set_title('scatter plot')\n",
    "plt.show()\n",
    "# We can observe the positive slope, as Cost Per Square Feet increase, List price is increasing, it's positive relation"
   ]
  },
  {
   "cell_type": "markdown",
   "metadata": {},
   "source": [
    "# Answer to Question 12:"
   ]
  },
  {
   "cell_type": "code",
   "execution_count": 113,
   "metadata": {},
   "outputs": [
    {
     "data": {
      "image/png": "[encoded data removed]",
      "text/plain": [
       "<Figure size 720x720 with 16 Axes>"
      ]
     },
     "metadata": {
      "needs_background": "light"
     },
     "output_type": "display_data"
    }
   ],
   "source": [
    "# Is data normalized ? \n",
    "# From this, it doesn't look like, so will normalize the data based on log\n",
    "houseDataSet.hist(figsize=(10,10))\n",
    "plt.xticks(rotation=40);"
   ]
  },
  {
   "cell_type": "markdown",
   "metadata": {},
   "source": [
    "# Answer to Question 13: "
   ]
  },
  {
   "cell_type": "code",
   "execution_count": 115,
   "metadata": {},
   "outputs": [],
   "source": [
    "#Normalize the dataset based on log for these attributes predictor variables\n",
    "houseDataSet['OrigPrice'] = np.log(houseDataSet['OrigPrice'])\n",
    "houseDataSet['SquareFeet'] = np.log(houseDataSet['SquareFeet'])\n",
    "houseDataSet['YearBuilt'] = np.log(houseDataSet['YearBuilt'])\n",
    "houseDataSet['ListPrice'] = np.log(houseDataSet['ListPrice'])"
   ]
  },
  {
   "cell_type": "code",
   "execution_count": 116,
   "metadata": {},
   "outputs": [
    {
     "data": {
      "image/png": "[encoded data removed]",
      "text/plain": [
       "<Figure size 720x720 with 16 Axes>"
      ]
     },
     "metadata": {
      "needs_background": "light"
     },
     "output_type": "display_data"
    }
   ],
   "source": [
    "houseDataSet.hist(figsize=(10,10))\n",
    "plt.xticks(rotation=40);"
   ]
  },
  {
   "cell_type": "markdown",
   "metadata": {},
   "source": [
    "# Answer to Question 14:"
   ]
  },
  {
   "cell_type": "code",
   "execution_count": 20,
   "metadata": {},
   "outputs": [],
   "source": [
    "# Regression Assumptions :\n",
    "\n",
    "# Linear regression makes several assumptions about the data, such as :\n",
    "  \n",
    "# 1) Linearity of the data. The relationship between the predictor (x) and the outcome (y) is assumed to be linear.\n",
    "# 2) Normality of residuals. The residual errors are assumed to be normally distributed.\n",
    "# 3) Homogeneity of residuals variance. The residuals are assumed to have a constant variance (homoscedasticity)\n",
    "# 4) Independence of residuals error terms.\n"
   ]
  },
  {
   "cell_type": "markdown",
   "metadata": {},
   "source": [
    "# Answer to Question 15:"
   ]
  },
  {
   "cell_type": "code",
   "execution_count": 123,
   "metadata": {},
   "outputs": [],
   "source": [
    "# Potential problems include:\n",
    "# a) Non-linearity of the outcome - predictor relationships\n",
    "# b) Heteroscedasticity: Non-constant variance of error terms.\n",
    "# c) Presence of influential values in the data that can be:\n",
    "# d) Outliers: extreme values in the outcome (y) variable\n",
    "# e) High-leverage points: extreme values in the predictors (x) variable"
   ]
  },
  {
   "cell_type": "markdown",
   "metadata": {},
   "source": [
    "# Answer to Question 16 :"
   ]
  },
  {
   "cell_type": "code",
   "execution_count": 39,
   "metadata": {},
   "outputs": [],
   "source": [
    "import statsmodels.api as sm\n",
    "from statsmodels.formula.api import ols\n",
    "model1 = ols(\"SalePrice ~ ListPrice\", data=houseDataSet).fit()\n",
    "\n",
    "# summarize our model\n",
    "model1_summary = model1.summary()"
   ]
  },
  {
   "cell_type": "markdown",
   "metadata": {},
   "source": [
    "# Answer to Question 17 :"
   ]
  },
  {
   "cell_type": "code",
   "execution_count": 40,
   "metadata": {},
   "outputs": [
    {
     "data": {
      "text/html": [
       "<table class=\"simpletable\">\n",
       "<caption>OLS Regression Results</caption>\n",
       "<tr>\n",
       "  <th>Dep. Variable:</th>        <td>SalePrice</td>    <th>  R-squared:         </th> <td>   0.989</td> \n",
       "</tr>\n",
       "<tr>\n",
       "  <th>Model:</th>                   <td>OLS</td>       <th style=\"background-color:#aec7e8;\"> Adj. R-squared: </th> <td>   0.989</td> \n",
       "</tr>\n",
       "<tr>\n",
       "  <th>Method:</th>             <td>Least Squares</td>  <th>  F-statistic:       </th> <td>8.678e+04</td>\n",
       "</tr>\n",
       "<tr>\n",
       "  <th>Date:</th>             <td>Tue, 14 Apr 2020</td> <th>  Prob (F-statistic):</th>  <td>  0.00</td>  \n",
       "</tr>\n",
       "<tr>\n",
       "  <th>Time:</th>                 <td>02:28:49</td>     <th>  Log-Likelihood:    </th> <td> -9668.5</td> \n",
       "</tr>\n",
       "<tr>\n",
       "  <th>No. Observations:</th>      <td>   929</td>      <th>  AIC:               </th> <td>1.934e+04</td>\n",
       "</tr>\n",
       "<tr>\n",
       "  <th>Df Residuals:</th>          <td>   927</td>      <th>  BIC:               </th> <td>1.935e+04</td>\n",
       "</tr>\n",
       "<tr>\n",
       "  <th>Df Model:</th>              <td>     1</td>      <th>                     </th>     <td> </td>    \n",
       "</tr>\n",
       "<tr>\n",
       "  <th>Covariance Type:</th>      <td>nonrobust</td>    <th>                     </th>     <td> </td>    \n",
       "</tr>\n",
       "</table>\n",
       "<table class=\"simpletable\">\n",
       "<tr>\n",
       "      <td></td>         <th style=\"background-color:#ffbb78;\">coef</th>     <th style=\"background-color:#c7e9c0;\">std err</th>      <th>t</th>      <th style=\"background-color:#bcbddc;\">P>|t|</th>  <th style=\"background-color:#ff9896;\">[0.025</th>    <th style=\"background-color:#ff9896;\">0.975]</th>  \n",
       "</tr>\n",
       "<tr>\n",
       "  <th>Intercept</th> <td> -144.8329</td> <td>  523.584</td> <td>   -0.277</td> <td> 0.782</td> <td>-1172.380</td> <td>  882.714</td>\n",
       "</tr>\n",
       "<tr>\n",
       "  <th>ListPrice</th> <td>    0.9431</td> <td>    0.003</td> <td>  294.578</td> <td> 0.000</td> <td>    0.937</td> <td>    0.949</td>\n",
       "</tr>\n",
       "</table>\n",
       "<table class=\"simpletable\">\n",
       "<tr>\n",
       "  <th>Omnibus:</th>       <td>352.958</td> <th>  Durbin-Watson:     </th> <td>   1.837</td>\n",
       "</tr>\n",
       "<tr>\n",
       "  <th>Prob(Omnibus):</th> <td> 0.000</td>  <th>  Jarque-Bera (JB):  </th> <td>3908.084</td>\n",
       "</tr>\n",
       "<tr>\n",
       "  <th>Skew:</th>          <td>-1.410</td>  <th>  Prob(JB):          </th> <td>    0.00</td>\n",
       "</tr>\n",
       "<tr>\n",
       "  <th>Kurtosis:</th>      <td>12.644</td>  <th>  Cond. No.          </th> <td>3.25e+05</td>\n",
       "</tr>\n",
       "</table><br/><br/>Warnings:<br/>[1] Standard Errors assume that the covariance matrix of the errors is correctly specified.<br/>[2] The condition number is large, 3.25e+05. This might indicate that there are<br/>strong multicollinearity or other numerical problems."
      ],
      "text/plain": [
       "<IPython.core.display.HTML object>"
      ]
     },
     "execution_count": 40,
     "metadata": {},
     "output_type": "execute_result"
    }
   ],
   "source": [
    "from IPython.display import HTML, display\n",
    "HTML(\n",
    "(model1_summary\n",
    "    .as_html()\n",
    "    .replace('<th>  Adj. R-squared:    </th>', '<th style=\"background-color:#aec7e8;\"> Adj. R-squared: </th>')\n",
    "    .replace('<th>coef</th>', '<th style=\"background-color:#ffbb78;\">coef</th>')\n",
    "    .replace('<th>std err</th>', '<th style=\"background-color:#c7e9c0;\">std err</th>')\n",
    "    .replace('<th>P>|t|</th>', '<th style=\"background-color:#bcbddc;\">P>|t|</th>')\n",
    "    .replace('<th>[0.025</th>    <th>0.975]</th>', '<th style=\"background-color:#ff9896;\">[0.025</th>    <th style=\"background-color:#ff9896;\">0.975]</th>'))\n",
    ")"
   ]
  },
  {
   "cell_type": "markdown",
   "metadata": {},
   "source": [
    "# Answer to Question 18:"
   ]
  },
  {
   "cell_type": "code",
   "execution_count": null,
   "metadata": {},
   "outputs": [],
   "source": [
    "# The diagnostic plots show residuals in four different ways:\n",
    "  \n",
    "# a) Residuals vs Fitted. Used to check the linear relationship assumptions. \n",
    "# A horizontal line, without distinct patterns is an indication for a linear relationship, what is good.\n",
    "\n",
    "# 2) Normal Q-Q. Used to examine whether the residuals are normally distributed. \n",
    "# It’s good if residuals points follow the straight dashed line.\n",
    "\n",
    "# 3) Scale-Location (or Spread-Location). Used to check the homogeneity of variance of the residuals (homoscedasticity). \n",
    "# Horizontal line with equally spread points is a good indication of homoscedasticity. \n",
    "\n",
    "# 4) Residuals vs Leverage. Used to identify influential cases, that is extreme values that might influence the regression results when included or excluded from the analysis. \n"
   ]
  },
  {
   "cell_type": "markdown",
   "metadata": {},
   "source": [
    "# Answer to Question 19:"
   ]
  },
  {
   "cell_type": "code",
   "execution_count": 41,
   "metadata": {},
   "outputs": [
    {
     "data": {
      "image/png": "[encoded data removed]",
      "text/plain": [
       "<Figure size 1080x576 with 4 Axes>"
      ]
     },
     "metadata": {
      "needs_background": "light"
     },
     "output_type": "display_data"
    }
   ],
   "source": [
    "# This produces our four regression plots for Hgt96\n",
    "\n",
    "fig = plt.figure(figsize=(15,8))\n",
    "\n",
    "# pass in the model as the first parameter, then specify the \n",
    "# predictor variable we want to analyze\n",
    "fig = sm.graphics.plot_regress_exog(model1, \"ListPrice\", fig=fig)"
   ]
  },
  {
   "cell_type": "markdown",
   "metadata": {},
   "source": [
    "# Answer to Question 20:"
   ]
  },
  {
   "cell_type": "code",
   "execution_count": 43,
   "metadata": {},
   "outputs": [
    {
     "data": {
      "text/html": [
       "<table class=\"simpletable\">\n",
       "<caption>OLS Regression Results</caption>\n",
       "<tr>\n",
       "  <th>Dep. Variable:</th>         <td>Profit</td>      <th>  R-squared:         </th> <td>   0.530</td> \n",
       "</tr>\n",
       "<tr>\n",
       "  <th>Model:</th>                   <td>OLS</td>       <th>  Adj. R-squared:    </th> <td>   0.525</td> \n",
       "</tr>\n",
       "<tr>\n",
       "  <th>Method:</th>             <td>Least Squares</td>  <th>  F-statistic:       </th> <td>   103.4</td> \n",
       "</tr>\n",
       "<tr>\n",
       "  <th>Date:</th>             <td>Tue, 14 Apr 2020</td> <th>  Prob (F-statistic):</th> <td>6.46e-143</td>\n",
       "</tr>\n",
       "<tr>\n",
       "  <th>Time:</th>                 <td>02:37:55</td>     <th>  Log-Likelihood:    </th> <td> -9998.2</td> \n",
       "</tr>\n",
       "<tr>\n",
       "  <th>No. Observations:</th>      <td>   929</td>      <th>  AIC:               </th> <td>2.002e+04</td>\n",
       "</tr>\n",
       "<tr>\n",
       "  <th>Df Residuals:</th>          <td>   918</td>      <th>  BIC:               </th> <td>2.007e+04</td>\n",
       "</tr>\n",
       "<tr>\n",
       "  <th>Df Model:</th>              <td>    10</td>      <th>                     </th>     <td> </td>    \n",
       "</tr>\n",
       "<tr>\n",
       "  <th>Covariance Type:</th>      <td>nonrobust</td>    <th>                     </th>     <td> </td>    \n",
       "</tr>\n",
       "</table>\n",
       "<table class=\"simpletable\">\n",
       "<tr>\n",
       "       <td></td>         <th>coef</th>     <th>std err</th>      <th>t</th>      <th>P>|t|</th>  <th>[0.025</th>    <th>0.975]</th>  \n",
       "</tr>\n",
       "<tr>\n",
       "  <th>Intercept</th>  <td>-3.644e+05</td> <td> 2.48e+05</td> <td>   -1.466</td> <td> 0.143</td> <td>-8.52e+05</td> <td> 1.23e+05</td>\n",
       "</tr>\n",
       "<tr>\n",
       "  <th>Bedrooms</th>   <td>  -33.2674</td> <td>  495.183</td> <td>   -0.067</td> <td> 0.946</td> <td>-1005.090</td> <td>  938.556</td>\n",
       "</tr>\n",
       "<tr>\n",
       "  <th>Baths</th>      <td>  403.5075</td> <td>  791.829</td> <td>    0.510</td> <td> 0.610</td> <td>-1150.498</td> <td> 1957.513</td>\n",
       "</tr>\n",
       "<tr>\n",
       "  <th>SquareFeet</th> <td>    4.6668</td> <td>    0.973</td> <td>    4.798</td> <td> 0.000</td> <td>    2.758</td> <td>    6.576</td>\n",
       "</tr>\n",
       "<tr>\n",
       "  <th>LotSize</th>    <td> -271.6073</td> <td>  171.393</td> <td>   -1.585</td> <td> 0.113</td> <td> -607.975</td> <td>   64.761</td>\n",
       "</tr>\n",
       "<tr>\n",
       "  <th>YearBuilt</th>  <td>    3.4589</td> <td>   13.714</td> <td>    0.252</td> <td> 0.801</td> <td>  -23.456</td> <td>   30.373</td>\n",
       "</tr>\n",
       "<tr>\n",
       "  <th>YearSold</th>   <td>  175.9859</td> <td>  122.591</td> <td>    1.436</td> <td> 0.151</td> <td>  -64.606</td> <td>  416.578</td>\n",
       "</tr>\n",
       "<tr>\n",
       "  <th>MonthSold</th>  <td>  118.7952</td> <td>  125.838</td> <td>    0.944</td> <td> 0.345</td> <td> -128.168</td> <td>  365.759</td>\n",
       "</tr>\n",
       "<tr>\n",
       "  <th>DaySold</th>    <td>    2.4993</td> <td>   40.511</td> <td>    0.062</td> <td> 0.951</td> <td>  -77.006</td> <td>   82.005</td>\n",
       "</tr>\n",
       "<tr>\n",
       "  <th>SalePrice</th>  <td>   -1.1657</td> <td>    0.050</td> <td>  -23.176</td> <td> 0.000</td> <td>   -1.264</td> <td>   -1.067</td>\n",
       "</tr>\n",
       "<tr>\n",
       "  <th>ListPrice</th>  <td>    1.1563</td> <td>    0.050</td> <td>   23.221</td> <td> 0.000</td> <td>    1.059</td> <td>    1.254</td>\n",
       "</tr>\n",
       "</table>\n",
       "<table class=\"simpletable\">\n",
       "<tr>\n",
       "  <th>Omnibus:</th>       <td>271.550</td> <th>  Durbin-Watson:     </th> <td>   2.035</td> \n",
       "</tr>\n",
       "<tr>\n",
       "  <th>Prob(Omnibus):</th> <td> 0.000</td>  <th>  Jarque-Bera (JB):  </th> <td>26789.217</td>\n",
       "</tr>\n",
       "<tr>\n",
       "  <th>Skew:</th>          <td> 0.061</td>  <th>  Prob(JB):          </th> <td>    0.00</td> \n",
       "</tr>\n",
       "<tr>\n",
       "  <th>Kurtosis:</th>      <td>29.307</td>  <th>  Cond. No.          </th> <td>1.48e+08</td> \n",
       "</tr>\n",
       "</table><br/><br/>Warnings:<br/>[1] Standard Errors assume that the covariance matrix of the errors is correctly specified.<br/>[2] The condition number is large, 1.48e+08. This might indicate that there are<br/>strong multicollinearity or other numerical problems."
      ],
      "text/plain": [
       "<IPython.core.display.HTML object>"
      ]
     },
     "execution_count": 43,
     "metadata": {},
     "output_type": "execute_result"
    }
   ],
   "source": [
    "model2 = ols(\"Profit~Bedrooms+Baths+SquareFeet+LotSize+YearBuilt+YearSold+MonthSold+DaySold+SalePrice+ListPrice\", data=houseDataSet).fit()\n",
    "\n",
    "# summarize our model\n",
    "model2_summary = model2.summary()\n",
    "\n",
    "HTML(model2_summary.as_html())"
   ]
  },
  {
   "cell_type": "code",
   "execution_count": null,
   "metadata": {},
   "outputs": [],
   "source": [
    "# The significant variables as observed from the above summary are :\n",
    "# Baths, SquareFeet, LotSize, OrigPrice and SalePrice\n",
    "# We found that as the amenities increased the price also increased"
   ]
  }
 ],
 "metadata": {
  "kernelspec": {
   "display_name": "Python 3",
   "language": "python",
   "name": "python3"
  },
  "language_info": {
   "codemirror_mode": {
    "name": "ipython",
    "version": 3
   },
   "file_extension": ".py",
   "mimetype": "text/x-python",
   "name": "python",
   "nbconvert_exporter": "python",
   "pygments_lexer": "ipython3",
   "version": "3.7.4"
  }
 },
 "nbformat": 4,
 "nbformat_minor": 2
}
